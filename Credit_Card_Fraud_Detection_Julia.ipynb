{
 "cells": [
  {
   "cell_type": "markdown",
   "metadata": {},
   "source": [
    "# Credit Card Fraud Detection\n",
    "\n",
    "We have dataset stored in creditcard.csv file. Here columns are Time, V1-V28, Txn Amount and Class(Result: Success->0, fraud->1)"
   ]
  },
  {
   "cell_type": "code",
   "execution_count": 1,
   "metadata": {},
   "outputs": [],
   "source": [
    "# Downloading Packages\n",
    "# Pkg.add(\"DataFrames\")\n",
    "# Pkg.add(\"Flux\")"
   ]
  },
  {
   "cell_type": "code",
   "execution_count": 2,
   "metadata": {},
   "outputs": [],
   "source": [
    "# Using Packages\n",
    "using DataFrames, CSV;\n",
    "using Flux;"
   ]
  },
  {
   "cell_type": "code",
   "execution_count": 3,
   "metadata": {},
   "outputs": [],
   "source": [
    "# Reading our dataset from creditcard.csv file\n",
    "#Training\n",
    "dataset = CSV.read(\"creditcard.csv\");"
   ]
  },
  {
   "cell_type": "code",
   "execution_count": 4,
   "metadata": {},
   "outputs": [],
   "source": [
    "#Getting Training set data \"xs\"\n",
    "#Training\n",
    "xs =[[row.Time, row.V1, row.V2, row.V3, row.V4, row.V5, row.V6, row.V7, row.V8, row.V9,row.V10,row.V11, row.V12, row.V13, row.V14, row.V15, row.V16, row.V17, row.V18, row.V19, row.V20, row.V21, row.V22, row.V23, row.V24, row.V25,row.V26,row.V27,row.V28, row.Amount] for row in eachrow(dataset)];"
   ]
  },
  {
   "cell_type": "code",
   "execution_count": 5,
   "metadata": {},
   "outputs": [
    {
     "data": {
      "text/plain": [
       "(249999,)"
      ]
     },
     "execution_count": 5,
     "metadata": {},
     "output_type": "execute_result"
    }
   ],
   "source": [
    "#Checking the xs in correct format(N, ), N belongs to training set\n",
    "size(xs)"
   ]
  },
  {
   "cell_type": "code",
   "execution_count": 6,
   "metadata": {},
   "outputs": [
    {
     "data": {
      "text/plain": [
       "(30,)"
      ]
     },
     "execution_count": 6,
     "metadata": {},
     "output_type": "execute_result"
    }
   ],
   "source": [
    "#Checking the xs first row in correct format(30, )in each training set\n",
    "size(xs[1])"
   ]
  },
  {
   "cell_type": "code",
   "execution_count": 7,
   "metadata": {},
   "outputs": [],
   "source": [
    "#Getting Training set data \"ys\"\n",
    "ys = [dataset[i, :Class] for i in 1:249999]; #Training\n",
    "# @show ys\n",
    "# typeof(ys)"
   ]
  },
  {
   "cell_type": "code",
   "execution_count": 8,
   "metadata": {},
   "outputs": [
    {
     "data": {
      "text/plain": [
       "(249999,)"
      ]
     },
     "execution_count": 8,
     "metadata": {},
     "output_type": "execute_result"
    }
   ],
   "source": [
    "# xss = reshape(collect(skipmissing(convert(Matrix, xs))),(10,30))\n",
    "size(ys)"
   ]
  },
  {
   "cell_type": "code",
   "execution_count": 9,
   "metadata": {},
   "outputs": [
    {
     "data": {
      "text/plain": [
       "0"
      ]
     },
     "execution_count": 9,
     "metadata": {},
     "output_type": "execute_result"
    }
   ],
   "source": [
    "# yss = reshape(collect(skipmissing(convert(Matrix, ys))),(10,1))\n",
    "size(ys[1])\n",
    "ys[1]"
   ]
  },
  {
   "cell_type": "code",
   "execution_count": 10,
   "metadata": {},
   "outputs": [],
   "source": [
    "#zip xs and ys\n",
    "data = zip(xs, ys);"
   ]
  },
  {
   "cell_type": "markdown",
   "metadata": {},
   "source": [
    "## Multiple layers in Flux\n"
   ]
  },
  {
   "cell_type": "code",
   "execution_count": 11,
   "metadata": {},
   "outputs": [
    {
     "data": {
      "text/plain": [
       "Dense(1, 2, NNlib.σ)"
      ]
     },
     "execution_count": 11,
     "metadata": {},
     "output_type": "execute_result"
    }
   ],
   "source": [
    "inputs = 30\n",
    "hidden = 1\n",
    "outputs = 2\n",
    "\n",
    "layer1 = Dense(inputs, hidden, σ)\n",
    "layer2 = Dense(hidden, outputs, σ)"
   ]
  },
  {
   "cell_type": "code",
   "execution_count": 12,
   "metadata": {},
   "outputs": [
    {
     "data": {
      "text/plain": [
       "Chain(Dense(30, 1, NNlib.σ), Dense(1, 2, NNlib.σ))"
      ]
     },
     "execution_count": 12,
     "metadata": {},
     "output_type": "execute_result"
    }
   ],
   "source": [
    "#define model\n",
    "model = Chain(layer1, layer2)"
   ]
  },
  {
   "cell_type": "code",
   "execution_count": 13,
   "metadata": {},
   "outputs": [
    {
     "data": {
      "text/plain": [
       "Tracked 2-element Array{Float32,1}:\n",
       " 0.77612126f0\n",
       " 0.80238396f0"
      ]
     },
     "execution_count": 13,
     "metadata": {},
     "output_type": "execute_result"
    }
   ],
   "source": [
    "#check model is working with one data\n",
    "model(xs[1])"
   ]
  },
  {
   "cell_type": "code",
   "execution_count": 14,
   "metadata": {},
   "outputs": [
    {
     "data": {
      "text/plain": [
       "Params([Float32[0.280058 0.302826 … -0.307157 0.274564] (tracked), Float32[0.0] (tracked), Float32[1.2432; 1.40126] (tracked), Float32[0.0, 0.0] (tracked)])"
      ]
     },
     "execution_count": 14,
     "metadata": {},
     "output_type": "execute_result"
    }
   ],
   "source": [
    "#Applying Flux.params method on model\n",
    "ps = Flux.params(model)"
   ]
  },
  {
   "cell_type": "code",
   "execution_count": 15,
   "metadata": {},
   "outputs": [
    {
     "data": {
      "text/plain": [
       "loss (generic function with 1 method)"
      ]
     },
     "execution_count": 15,
     "metadata": {},
     "output_type": "execute_result"
    }
   ],
   "source": [
    "#Calculating loss\n",
    "loss(x, y) = Flux.mse(model(x), y)"
   ]
  },
  {
   "cell_type": "code",
   "execution_count": 16,
   "metadata": {},
   "outputs": [
    {
     "data": {
      "text/plain": [
       "ADAM(0.02, (0.9, 0.999), IdDict{Any,Any}())"
      ]
     },
     "execution_count": 16,
     "metadata": {},
     "output_type": "execute_result"
    }
   ],
   "source": [
    "# Optimizing\n",
    "opt = ADAM(0.02)"
   ]
  },
  {
   "cell_type": "code",
   "execution_count": 17,
   "metadata": {},
   "outputs": [
    {
     "name": "stderr",
     "output_type": "stream",
     "text": [
      "┌ Info: Epoch 1\n",
      "└ @ Main /home/rahul/.julia/packages/Flux/qXNjB/src/optimise/train.jl:105\n",
      "┌ Info: Epoch 2\n",
      "└ @ Main /home/rahul/.julia/packages/Flux/qXNjB/src/optimise/train.jl:105\n",
      "┌ Info: Epoch 3\n",
      "└ @ Main /home/rahul/.julia/packages/Flux/qXNjB/src/optimise/train.jl:105\n",
      "┌ Info: Epoch 4\n",
      "└ @ Main /home/rahul/.julia/packages/Flux/qXNjB/src/optimise/train.jl:105\n",
      "┌ Info: Epoch 5\n",
      "└ @ Main /home/rahul/.julia/packages/Flux/qXNjB/src/optimise/train.jl:105\n",
      "┌ Info: Epoch 6\n",
      "└ @ Main /home/rahul/.julia/packages/Flux/qXNjB/src/optimise/train.jl:105\n",
      "┌ Info: Epoch 7\n",
      "└ @ Main /home/rahul/.julia/packages/Flux/qXNjB/src/optimise/train.jl:105\n",
      "┌ Info: Epoch 8\n",
      "└ @ Main /home/rahul/.julia/packages/Flux/qXNjB/src/optimise/train.jl:105\n",
      "┌ Info: Epoch 9\n",
      "└ @ Main /home/rahul/.julia/packages/Flux/qXNjB/src/optimise/train.jl:105\n",
      "┌ Info: Epoch 10\n",
      "└ @ Main /home/rahul/.julia/packages/Flux/qXNjB/src/optimise/train.jl:105\n"
     ]
    },
    {
     "name": "stdout",
     "output_type": "stream",
     "text": [
      "571.939982 seconds (1.70 G allocations: 53.314 GiB, 3.12% gc time)\n"
     ]
    }
   ],
   "source": [
    "using Flux:@epochs\n",
    "\n",
    "@time(@epochs 10 Flux.train!(loss, ps, data, opt))"
   ]
  },
  {
   "cell_type": "code",
   "execution_count": 18,
   "metadata": {},
   "outputs": [
    {
     "data": {
      "text/plain": [
       "Tracked 2-element Array{Float32,1}:\n",
       " 0.0035386188f0\n",
       " 0.0035386358f0"
      ]
     },
     "execution_count": 18,
     "metadata": {},
     "output_type": "execute_result"
    }
   ],
   "source": [
    "#Verifying trained model\n",
    "ans2 = model(xs[2])"
   ]
  },
  {
   "cell_type": "code",
   "execution_count": 19,
   "metadata": {},
   "outputs": [
    {
     "data": {
      "text/plain": [
       "2-element Array{Float32,1}:\n",
       " 0.0035386188\n",
       " 0.0035386358"
      ]
     },
     "execution_count": 19,
     "metadata": {},
     "output_type": "execute_result"
    }
   ],
   "source": [
    "Flux.Tracker.data(ans2)"
   ]
  },
  {
   "cell_type": "code",
   "execution_count": 20,
   "metadata": {},
   "outputs": [
    {
     "data": {
      "text/plain": [
       "2"
      ]
     },
     "execution_count": 20,
     "metadata": {},
     "output_type": "execute_result"
    }
   ],
   "source": [
    "argmax(ans2)"
   ]
  },
  {
   "cell_type": "code",
   "execution_count": null,
   "metadata": {},
   "outputs": [],
   "source": []
  }
 ],
 "metadata": {
  "@webio": {
   "lastCommId": null,
   "lastKernelId": null
  },
  "kernelspec": {
   "display_name": "Julia 1.0.3",
   "language": "julia",
   "name": "julia-1.0"
  },
  "language_info": {
   "file_extension": ".jl",
   "mimetype": "application/julia",
   "name": "julia",
   "version": "1.0.3"
  }
 },
 "nbformat": 4,
 "nbformat_minor": 2
}
